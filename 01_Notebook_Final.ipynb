{
  "nbformat": 4,
  "nbformat_minor": 0,
  "metadata": {
    "colab": {
      "provenance": [],
      "collapsed_sections": []
    },
    "kernelspec": {
      "name": "python3",
      "display_name": "Python 3"
    },
    "language_info": {
      "name": "python"
    }
  },
  "cells": [
    {
      "cell_type": "code",
      "source": [
        "! pip install -q kaggle\n",
        "from google.colab import files \n",
        "files.upload()\n",
        "#Saving kaggle.json #to kaggle.json\n",
        "! mkdir ~/.kaggle\n",
        "! cp kaggle.json ~/.kaggle/\n",
        "!chmod 600 ~/.kaggle/kaggle.json"
      ],
      "metadata": {
        "colab": {
          "base_uri": "https://localhost:8080/",
          "height": 38
        },
        "id": "Vv3WU8m7bkdS",
        "outputId": "1308a9b2-b563-48d4-8203-a5d2a7f42528"
      },
      "execution_count": null,
      "outputs": [
        {
          "output_type": "display_data",
          "data": {
            "text/plain": [
              "<IPython.core.display.HTML object>"
            ],
            "text/html": [
              "\n",
              "     <input type=\"file\" id=\"files-6e9327f6-07dc-4546-8ad8-a138a9dcc683\" name=\"files[]\" multiple disabled\n",
              "        style=\"border:none\" />\n",
              "     <output id=\"result-6e9327f6-07dc-4546-8ad8-a138a9dcc683\">\n",
              "      Upload widget is only available when the cell has been executed in the\n",
              "      current browser session. Please rerun this cell to enable.\n",
              "      </output>\n",
              "      <script>// Copyright 2017 Google LLC\n",
              "//\n",
              "// Licensed under the Apache License, Version 2.0 (the \"License\");\n",
              "// you may not use this file except in compliance with the License.\n",
              "// You may obtain a copy of the License at\n",
              "//\n",
              "//      http://www.apache.org/licenses/LICENSE-2.0\n",
              "//\n",
              "// Unless required by applicable law or agreed to in writing, software\n",
              "// distributed under the License is distributed on an \"AS IS\" BASIS,\n",
              "// WITHOUT WARRANTIES OR CONDITIONS OF ANY KIND, either express or implied.\n",
              "// See the License for the specific language governing permissions and\n",
              "// limitations under the License.\n",
              "\n",
              "/**\n",
              " * @fileoverview Helpers for google.colab Python module.\n",
              " */\n",
              "(function(scope) {\n",
              "function span(text, styleAttributes = {}) {\n",
              "  const element = document.createElement('span');\n",
              "  element.textContent = text;\n",
              "  for (const key of Object.keys(styleAttributes)) {\n",
              "    element.style[key] = styleAttributes[key];\n",
              "  }\n",
              "  return element;\n",
              "}\n",
              "\n",
              "// Max number of bytes which will be uploaded at a time.\n",
              "const MAX_PAYLOAD_SIZE = 100 * 1024;\n",
              "\n",
              "function _uploadFiles(inputId, outputId) {\n",
              "  const steps = uploadFilesStep(inputId, outputId);\n",
              "  const outputElement = document.getElementById(outputId);\n",
              "  // Cache steps on the outputElement to make it available for the next call\n",
              "  // to uploadFilesContinue from Python.\n",
              "  outputElement.steps = steps;\n",
              "\n",
              "  return _uploadFilesContinue(outputId);\n",
              "}\n",
              "\n",
              "// This is roughly an async generator (not supported in the browser yet),\n",
              "// where there are multiple asynchronous steps and the Python side is going\n",
              "// to poll for completion of each step.\n",
              "// This uses a Promise to block the python side on completion of each step,\n",
              "// then passes the result of the previous step as the input to the next step.\n",
              "function _uploadFilesContinue(outputId) {\n",
              "  const outputElement = document.getElementById(outputId);\n",
              "  const steps = outputElement.steps;\n",
              "\n",
              "  const next = steps.next(outputElement.lastPromiseValue);\n",
              "  return Promise.resolve(next.value.promise).then((value) => {\n",
              "    // Cache the last promise value to make it available to the next\n",
              "    // step of the generator.\n",
              "    outputElement.lastPromiseValue = value;\n",
              "    return next.value.response;\n",
              "  });\n",
              "}\n",
              "\n",
              "/**\n",
              " * Generator function which is called between each async step of the upload\n",
              " * process.\n",
              " * @param {string} inputId Element ID of the input file picker element.\n",
              " * @param {string} outputId Element ID of the output display.\n",
              " * @return {!Iterable<!Object>} Iterable of next steps.\n",
              " */\n",
              "function* uploadFilesStep(inputId, outputId) {\n",
              "  const inputElement = document.getElementById(inputId);\n",
              "  inputElement.disabled = false;\n",
              "\n",
              "  const outputElement = document.getElementById(outputId);\n",
              "  outputElement.innerHTML = '';\n",
              "\n",
              "  const pickedPromise = new Promise((resolve) => {\n",
              "    inputElement.addEventListener('change', (e) => {\n",
              "      resolve(e.target.files);\n",
              "    });\n",
              "  });\n",
              "\n",
              "  const cancel = document.createElement('button');\n",
              "  inputElement.parentElement.appendChild(cancel);\n",
              "  cancel.textContent = 'Cancel upload';\n",
              "  const cancelPromise = new Promise((resolve) => {\n",
              "    cancel.onclick = () => {\n",
              "      resolve(null);\n",
              "    };\n",
              "  });\n",
              "\n",
              "  // Wait for the user to pick the files.\n",
              "  const files = yield {\n",
              "    promise: Promise.race([pickedPromise, cancelPromise]),\n",
              "    response: {\n",
              "      action: 'starting',\n",
              "    }\n",
              "  };\n",
              "\n",
              "  cancel.remove();\n",
              "\n",
              "  // Disable the input element since further picks are not allowed.\n",
              "  inputElement.disabled = true;\n",
              "\n",
              "  if (!files) {\n",
              "    return {\n",
              "      response: {\n",
              "        action: 'complete',\n",
              "      }\n",
              "    };\n",
              "  }\n",
              "\n",
              "  for (const file of files) {\n",
              "    const li = document.createElement('li');\n",
              "    li.append(span(file.name, {fontWeight: 'bold'}));\n",
              "    li.append(span(\n",
              "        `(${file.type || 'n/a'}) - ${file.size} bytes, ` +\n",
              "        `last modified: ${\n",
              "            file.lastModifiedDate ? file.lastModifiedDate.toLocaleDateString() :\n",
              "                                    'n/a'} - `));\n",
              "    const percent = span('0% done');\n",
              "    li.appendChild(percent);\n",
              "\n",
              "    outputElement.appendChild(li);\n",
              "\n",
              "    const fileDataPromise = new Promise((resolve) => {\n",
              "      const reader = new FileReader();\n",
              "      reader.onload = (e) => {\n",
              "        resolve(e.target.result);\n",
              "      };\n",
              "      reader.readAsArrayBuffer(file);\n",
              "    });\n",
              "    // Wait for the data to be ready.\n",
              "    let fileData = yield {\n",
              "      promise: fileDataPromise,\n",
              "      response: {\n",
              "        action: 'continue',\n",
              "      }\n",
              "    };\n",
              "\n",
              "    // Use a chunked sending to avoid message size limits. See b/62115660.\n",
              "    let position = 0;\n",
              "    do {\n",
              "      const length = Math.min(fileData.byteLength - position, MAX_PAYLOAD_SIZE);\n",
              "      const chunk = new Uint8Array(fileData, position, length);\n",
              "      position += length;\n",
              "\n",
              "      const base64 = btoa(String.fromCharCode.apply(null, chunk));\n",
              "      yield {\n",
              "        response: {\n",
              "          action: 'append',\n",
              "          file: file.name,\n",
              "          data: base64,\n",
              "        },\n",
              "      };\n",
              "\n",
              "      let percentDone = fileData.byteLength === 0 ?\n",
              "          100 :\n",
              "          Math.round((position / fileData.byteLength) * 100);\n",
              "      percent.textContent = `${percentDone}% done`;\n",
              "\n",
              "    } while (position < fileData.byteLength);\n",
              "  }\n",
              "\n",
              "  // All done.\n",
              "  yield {\n",
              "    response: {\n",
              "      action: 'complete',\n",
              "    }\n",
              "  };\n",
              "}\n",
              "\n",
              "scope.google = scope.google || {};\n",
              "scope.google.colab = scope.google.colab || {};\n",
              "scope.google.colab._files = {\n",
              "  _uploadFiles,\n",
              "  _uploadFilesContinue,\n",
              "};\n",
              "})(self);\n",
              "</script> "
            ]
          },
          "metadata": {}
        }
      ]
    },
    {
      "cell_type": "code",
      "source": [
        "! kaggle datasets list"
      ],
      "metadata": {
        "id": "yYY8csFQcbT3"
      },
      "execution_count": null,
      "outputs": []
    },
    {
      "cell_type": "code",
      "source": [
        "! kaggle datasets download -d salikhussaini49/prediction-of-sepsis"
      ],
      "metadata": {
        "colab": {
          "base_uri": "https://localhost:8080/"
        },
        "id": "Krz2OOS8eTsk",
        "outputId": "30daa558-ea78-4a0a-a24e-d960eedb3c40"
      },
      "execution_count": null,
      "outputs": [
        {
          "output_type": "stream",
          "name": "stdout",
          "text": [
            "Downloading prediction-of-sepsis.zip to /content\n",
            " 98% 73.0M/74.7M [00:00<00:00, 149MB/s]\n",
            "100% 74.7M/74.7M [00:00<00:00, 142MB/s]\n"
          ]
        }
      ]
    },
    {
      "cell_type": "code",
      "source": [
        "! unzip /content/prediction-of-sepsis.zip "
      ],
      "metadata": {
        "id": "ANghO3YelSeA"
      },
      "execution_count": null,
      "outputs": []
    },
    {
      "cell_type": "code",
      "execution_count": null,
      "metadata": {
        "id": "PueKnU0AWO74"
      },
      "outputs": [],
      "source": [
        "# importar las librerias necesarias \n",
        "\n",
        "import pandas as pd  # Manipulacion de datos\n",
        "import numpy as np   # Algebra\n",
        "import seaborn as sns \n",
        "import matplotlib.pyplot as plt # Gaficas\n",
        "\n",
        "#%matplotlib inline #no he podido entender pa que es:v"
      ]
    },
    {
      "cell_type": "code",
      "source": [
        "#Se lee el archivo csv y se carga\n",
        "#Debe hacerse para proceder a la manipulacion de lo datos\n",
        "#Ubicación del archivo del conjunto de datos (\"/content/Dataset.csv\") cargado en el Notebook\n",
        "\n",
        "data = pd.read_csv(\"Dataset.csv\")"
      ],
      "metadata": {
        "id": "BgauHoNsncy5"
      },
      "execution_count": null,
      "outputs": []
    },
    {
      "cell_type": "code",
      "source": [
        "# Por defecto, Python muestra pocas filas y columnas.\n",
        "# Configure los siguientes parámetros para que todas las filas y columnas sean visibles\n",
        "pd.set_option(\"display.max_columns\", None)\n",
        "pd.set_option(\"display.max_rows\", None)"
      ],
      "metadata": {
        "id": "tK-seimrB3ta"
      },
      "execution_count": null,
      "outputs": []
    },
    {
      "cell_type": "code",
      "source": [
        "#Calculo del número de filas y columnas \n",
        "data.shape"
      ],
      "metadata": {
        "colab": {
          "base_uri": "https://localhost:8080/"
        },
        "id": "f4uOA-w5B9Mf",
        "outputId": "08334905-a873-4464-a5b7-d574ce5e372e"
      },
      "execution_count": null,
      "outputs": [
        {
          "output_type": "execute_result",
          "data": {
            "text/plain": [
              "(1552210, 44)"
            ]
          },
          "metadata": {},
          "execution_count": 9
        }
      ]
    },
    {
      "cell_type": "code",
      "source": [
        "#ya que so muchos  datos se hace na inspeccion visual de los primeros\n",
        "data.head()"
      ],
      "metadata": {
        "colab": {
          "base_uri": "https://localhost:8080/",
          "height": 287
        },
        "id": "fgVbafzpEgri",
        "outputId": "fb1ba5ee-e085-4c85-df45-0c7a67dd94f5"
      },
      "execution_count": null,
      "outputs": [
        {
          "output_type": "execute_result",
          "data": {
            "text/plain": [
              "   Unnamed: 0  Hour    HR  O2Sat  Temp    SBP   MAP   DBP  Resp  EtCO2  \\\n",
              "0           0     0   NaN    NaN   NaN    NaN   NaN   NaN   NaN    NaN   \n",
              "1           1     1  65.0  100.0   NaN    NaN  72.0   NaN  16.5    NaN   \n",
              "2           2     2  78.0  100.0   NaN    NaN  42.5   NaN   NaN    NaN   \n",
              "3           3     3  73.0  100.0   NaN    NaN   NaN   NaN  17.0    NaN   \n",
              "4           4     4  70.0  100.0   NaN  129.0  74.0  69.0  14.0    NaN   \n",
              "\n",
              "   BaseExcess  HCO3  FiO2  pH  PaCO2  SaO2  AST   BUN  Alkalinephos  Calcium  \\\n",
              "0         NaN   NaN   NaN NaN    NaN   NaN  NaN   NaN           NaN      NaN   \n",
              "1         NaN   NaN   0.4 NaN    NaN   NaN  NaN   NaN           NaN      NaN   \n",
              "2         NaN   NaN   NaN NaN    NaN   NaN  NaN   NaN           NaN      NaN   \n",
              "3         NaN   NaN   NaN NaN    NaN   NaN  NaN   NaN           NaN      NaN   \n",
              "4         NaN  26.0   0.4 NaN    NaN   NaN  NaN  23.0           NaN      9.6   \n",
              "\n",
              "   Chloride  Creatinine  Bilirubin_direct  Glucose  Lactate  Magnesium  \\\n",
              "0       NaN         NaN               NaN      NaN      NaN        NaN   \n",
              "1       NaN         NaN               NaN      NaN      NaN        NaN   \n",
              "2       NaN         NaN               NaN      NaN      NaN        NaN   \n",
              "3       NaN         NaN               NaN      NaN      NaN        NaN   \n",
              "4     104.0         0.8               NaN    161.0      NaN        1.6   \n",
              "\n",
              "   Phosphate  Potassium  Bilirubin_total  TroponinI   Hct  Hgb   PTT   WBC  \\\n",
              "0        NaN        NaN              NaN        NaN   NaN  NaN   NaN   NaN   \n",
              "1        NaN        NaN              NaN        NaN   NaN  NaN   NaN   NaN   \n",
              "2        NaN        NaN              NaN        NaN   NaN  NaN   NaN   NaN   \n",
              "3        NaN        NaN              NaN        NaN   NaN  NaN   NaN   NaN   \n",
              "4        2.1        3.2              NaN        NaN  29.7  9.5  30.6  11.3   \n",
              "\n",
              "   Fibrinogen  Platelets    Age  Gender  Unit1  Unit2  HospAdmTime  ICULOS  \\\n",
              "0         NaN        NaN  68.54       0    NaN    NaN        -0.02       1   \n",
              "1         NaN        NaN  68.54       0    NaN    NaN        -0.02       2   \n",
              "2         NaN        NaN  68.54       0    NaN    NaN        -0.02       3   \n",
              "3         NaN        NaN  68.54       0    NaN    NaN        -0.02       4   \n",
              "4         NaN      330.0  68.54       0    NaN    NaN        -0.02       5   \n",
              "\n",
              "   SepsisLabel  Patient_ID  \n",
              "0            0       17072  \n",
              "1            0       17072  \n",
              "2            0       17072  \n",
              "3            0       17072  \n",
              "4            0       17072  "
            ],
            "text/html": [
              "\n",
              "  <div id=\"df-91dcada3-1ac0-43a9-8ded-5c265c065698\">\n",
              "    <div class=\"colab-df-container\">\n",
              "      <div>\n",
              "<style scoped>\n",
              "    .dataframe tbody tr th:only-of-type {\n",
              "        vertical-align: middle;\n",
              "    }\n",
              "\n",
              "    .dataframe tbody tr th {\n",
              "        vertical-align: top;\n",
              "    }\n",
              "\n",
              "    .dataframe thead th {\n",
              "        text-align: right;\n",
              "    }\n",
              "</style>\n",
              "<table border=\"1\" class=\"dataframe\">\n",
              "  <thead>\n",
              "    <tr style=\"text-align: right;\">\n",
              "      <th></th>\n",
              "      <th>Unnamed: 0</th>\n",
              "      <th>Hour</th>\n",
              "      <th>HR</th>\n",
              "      <th>O2Sat</th>\n",
              "      <th>Temp</th>\n",
              "      <th>SBP</th>\n",
              "      <th>MAP</th>\n",
              "      <th>DBP</th>\n",
              "      <th>Resp</th>\n",
              "      <th>EtCO2</th>\n",
              "      <th>BaseExcess</th>\n",
              "      <th>HCO3</th>\n",
              "      <th>FiO2</th>\n",
              "      <th>pH</th>\n",
              "      <th>PaCO2</th>\n",
              "      <th>SaO2</th>\n",
              "      <th>AST</th>\n",
              "      <th>BUN</th>\n",
              "      <th>Alkalinephos</th>\n",
              "      <th>Calcium</th>\n",
              "      <th>Chloride</th>\n",
              "      <th>Creatinine</th>\n",
              "      <th>Bilirubin_direct</th>\n",
              "      <th>Glucose</th>\n",
              "      <th>Lactate</th>\n",
              "      <th>Magnesium</th>\n",
              "      <th>Phosphate</th>\n",
              "      <th>Potassium</th>\n",
              "      <th>Bilirubin_total</th>\n",
              "      <th>TroponinI</th>\n",
              "      <th>Hct</th>\n",
              "      <th>Hgb</th>\n",
              "      <th>PTT</th>\n",
              "      <th>WBC</th>\n",
              "      <th>Fibrinogen</th>\n",
              "      <th>Platelets</th>\n",
              "      <th>Age</th>\n",
              "      <th>Gender</th>\n",
              "      <th>Unit1</th>\n",
              "      <th>Unit2</th>\n",
              "      <th>HospAdmTime</th>\n",
              "      <th>ICULOS</th>\n",
              "      <th>SepsisLabel</th>\n",
              "      <th>Patient_ID</th>\n",
              "    </tr>\n",
              "  </thead>\n",
              "  <tbody>\n",
              "    <tr>\n",
              "      <th>0</th>\n",
              "      <td>0</td>\n",
              "      <td>0</td>\n",
              "      <td>NaN</td>\n",
              "      <td>NaN</td>\n",
              "      <td>NaN</td>\n",
              "      <td>NaN</td>\n",
              "      <td>NaN</td>\n",
              "      <td>NaN</td>\n",
              "      <td>NaN</td>\n",
              "      <td>NaN</td>\n",
              "      <td>NaN</td>\n",
              "      <td>NaN</td>\n",
              "      <td>NaN</td>\n",
              "      <td>NaN</td>\n",
              "      <td>NaN</td>\n",
              "      <td>NaN</td>\n",
              "      <td>NaN</td>\n",
              "      <td>NaN</td>\n",
              "      <td>NaN</td>\n",
              "      <td>NaN</td>\n",
              "      <td>NaN</td>\n",
              "      <td>NaN</td>\n",
              "      <td>NaN</td>\n",
              "      <td>NaN</td>\n",
              "      <td>NaN</td>\n",
              "      <td>NaN</td>\n",
              "      <td>NaN</td>\n",
              "      <td>NaN</td>\n",
              "      <td>NaN</td>\n",
              "      <td>NaN</td>\n",
              "      <td>NaN</td>\n",
              "      <td>NaN</td>\n",
              "      <td>NaN</td>\n",
              "      <td>NaN</td>\n",
              "      <td>NaN</td>\n",
              "      <td>NaN</td>\n",
              "      <td>68.54</td>\n",
              "      <td>0</td>\n",
              "      <td>NaN</td>\n",
              "      <td>NaN</td>\n",
              "      <td>-0.02</td>\n",
              "      <td>1</td>\n",
              "      <td>0</td>\n",
              "      <td>17072</td>\n",
              "    </tr>\n",
              "    <tr>\n",
              "      <th>1</th>\n",
              "      <td>1</td>\n",
              "      <td>1</td>\n",
              "      <td>65.0</td>\n",
              "      <td>100.0</td>\n",
              "      <td>NaN</td>\n",
              "      <td>NaN</td>\n",
              "      <td>72.0</td>\n",
              "      <td>NaN</td>\n",
              "      <td>16.5</td>\n",
              "      <td>NaN</td>\n",
              "      <td>NaN</td>\n",
              "      <td>NaN</td>\n",
              "      <td>0.4</td>\n",
              "      <td>NaN</td>\n",
              "      <td>NaN</td>\n",
              "      <td>NaN</td>\n",
              "      <td>NaN</td>\n",
              "      <td>NaN</td>\n",
              "      <td>NaN</td>\n",
              "      <td>NaN</td>\n",
              "      <td>NaN</td>\n",
              "      <td>NaN</td>\n",
              "      <td>NaN</td>\n",
              "      <td>NaN</td>\n",
              "      <td>NaN</td>\n",
              "      <td>NaN</td>\n",
              "      <td>NaN</td>\n",
              "      <td>NaN</td>\n",
              "      <td>NaN</td>\n",
              "      <td>NaN</td>\n",
              "      <td>NaN</td>\n",
              "      <td>NaN</td>\n",
              "      <td>NaN</td>\n",
              "      <td>NaN</td>\n",
              "      <td>NaN</td>\n",
              "      <td>NaN</td>\n",
              "      <td>68.54</td>\n",
              "      <td>0</td>\n",
              "      <td>NaN</td>\n",
              "      <td>NaN</td>\n",
              "      <td>-0.02</td>\n",
              "      <td>2</td>\n",
              "      <td>0</td>\n",
              "      <td>17072</td>\n",
              "    </tr>\n",
              "    <tr>\n",
              "      <th>2</th>\n",
              "      <td>2</td>\n",
              "      <td>2</td>\n",
              "      <td>78.0</td>\n",
              "      <td>100.0</td>\n",
              "      <td>NaN</td>\n",
              "      <td>NaN</td>\n",
              "      <td>42.5</td>\n",
              "      <td>NaN</td>\n",
              "      <td>NaN</td>\n",
              "      <td>NaN</td>\n",
              "      <td>NaN</td>\n",
              "      <td>NaN</td>\n",
              "      <td>NaN</td>\n",
              "      <td>NaN</td>\n",
              "      <td>NaN</td>\n",
              "      <td>NaN</td>\n",
              "      <td>NaN</td>\n",
              "      <td>NaN</td>\n",
              "      <td>NaN</td>\n",
              "      <td>NaN</td>\n",
              "      <td>NaN</td>\n",
              "      <td>NaN</td>\n",
              "      <td>NaN</td>\n",
              "      <td>NaN</td>\n",
              "      <td>NaN</td>\n",
              "      <td>NaN</td>\n",
              "      <td>NaN</td>\n",
              "      <td>NaN</td>\n",
              "      <td>NaN</td>\n",
              "      <td>NaN</td>\n",
              "      <td>NaN</td>\n",
              "      <td>NaN</td>\n",
              "      <td>NaN</td>\n",
              "      <td>NaN</td>\n",
              "      <td>NaN</td>\n",
              "      <td>NaN</td>\n",
              "      <td>68.54</td>\n",
              "      <td>0</td>\n",
              "      <td>NaN</td>\n",
              "      <td>NaN</td>\n",
              "      <td>-0.02</td>\n",
              "      <td>3</td>\n",
              "      <td>0</td>\n",
              "      <td>17072</td>\n",
              "    </tr>\n",
              "    <tr>\n",
              "      <th>3</th>\n",
              "      <td>3</td>\n",
              "      <td>3</td>\n",
              "      <td>73.0</td>\n",
              "      <td>100.0</td>\n",
              "      <td>NaN</td>\n",
              "      <td>NaN</td>\n",
              "      <td>NaN</td>\n",
              "      <td>NaN</td>\n",
              "      <td>17.0</td>\n",
              "      <td>NaN</td>\n",
              "      <td>NaN</td>\n",
              "      <td>NaN</td>\n",
              "      <td>NaN</td>\n",
              "      <td>NaN</td>\n",
              "      <td>NaN</td>\n",
              "      <td>NaN</td>\n",
              "      <td>NaN</td>\n",
              "      <td>NaN</td>\n",
              "      <td>NaN</td>\n",
              "      <td>NaN</td>\n",
              "      <td>NaN</td>\n",
              "      <td>NaN</td>\n",
              "      <td>NaN</td>\n",
              "      <td>NaN</td>\n",
              "      <td>NaN</td>\n",
              "      <td>NaN</td>\n",
              "      <td>NaN</td>\n",
              "      <td>NaN</td>\n",
              "      <td>NaN</td>\n",
              "      <td>NaN</td>\n",
              "      <td>NaN</td>\n",
              "      <td>NaN</td>\n",
              "      <td>NaN</td>\n",
              "      <td>NaN</td>\n",
              "      <td>NaN</td>\n",
              "      <td>NaN</td>\n",
              "      <td>68.54</td>\n",
              "      <td>0</td>\n",
              "      <td>NaN</td>\n",
              "      <td>NaN</td>\n",
              "      <td>-0.02</td>\n",
              "      <td>4</td>\n",
              "      <td>0</td>\n",
              "      <td>17072</td>\n",
              "    </tr>\n",
              "    <tr>\n",
              "      <th>4</th>\n",
              "      <td>4</td>\n",
              "      <td>4</td>\n",
              "      <td>70.0</td>\n",
              "      <td>100.0</td>\n",
              "      <td>NaN</td>\n",
              "      <td>129.0</td>\n",
              "      <td>74.0</td>\n",
              "      <td>69.0</td>\n",
              "      <td>14.0</td>\n",
              "      <td>NaN</td>\n",
              "      <td>NaN</td>\n",
              "      <td>26.0</td>\n",
              "      <td>0.4</td>\n",
              "      <td>NaN</td>\n",
              "      <td>NaN</td>\n",
              "      <td>NaN</td>\n",
              "      <td>NaN</td>\n",
              "      <td>23.0</td>\n",
              "      <td>NaN</td>\n",
              "      <td>9.6</td>\n",
              "      <td>104.0</td>\n",
              "      <td>0.8</td>\n",
              "      <td>NaN</td>\n",
              "      <td>161.0</td>\n",
              "      <td>NaN</td>\n",
              "      <td>1.6</td>\n",
              "      <td>2.1</td>\n",
              "      <td>3.2</td>\n",
              "      <td>NaN</td>\n",
              "      <td>NaN</td>\n",
              "      <td>29.7</td>\n",
              "      <td>9.5</td>\n",
              "      <td>30.6</td>\n",
              "      <td>11.3</td>\n",
              "      <td>NaN</td>\n",
              "      <td>330.0</td>\n",
              "      <td>68.54</td>\n",
              "      <td>0</td>\n",
              "      <td>NaN</td>\n",
              "      <td>NaN</td>\n",
              "      <td>-0.02</td>\n",
              "      <td>5</td>\n",
              "      <td>0</td>\n",
              "      <td>17072</td>\n",
              "    </tr>\n",
              "  </tbody>\n",
              "</table>\n",
              "</div>\n",
              "      <button class=\"colab-df-convert\" onclick=\"convertToInteractive('df-91dcada3-1ac0-43a9-8ded-5c265c065698')\"\n",
              "              title=\"Convert this dataframe to an interactive table.\"\n",
              "              style=\"display:none;\">\n",
              "        \n",
              "  <svg xmlns=\"http://www.w3.org/2000/svg\" height=\"24px\"viewBox=\"0 0 24 24\"\n",
              "       width=\"24px\">\n",
              "    <path d=\"M0 0h24v24H0V0z\" fill=\"none\"/>\n",
              "    <path d=\"M18.56 5.44l.94 2.06.94-2.06 2.06-.94-2.06-.94-.94-2.06-.94 2.06-2.06.94zm-11 1L8.5 8.5l.94-2.06 2.06-.94-2.06-.94L8.5 2.5l-.94 2.06-2.06.94zm10 10l.94 2.06.94-2.06 2.06-.94-2.06-.94-.94-2.06-.94 2.06-2.06.94z\"/><path d=\"M17.41 7.96l-1.37-1.37c-.4-.4-.92-.59-1.43-.59-.52 0-1.04.2-1.43.59L10.3 9.45l-7.72 7.72c-.78.78-.78 2.05 0 2.83L4 21.41c.39.39.9.59 1.41.59.51 0 1.02-.2 1.41-.59l7.78-7.78 2.81-2.81c.8-.78.8-2.07 0-2.86zM5.41 20L4 18.59l7.72-7.72 1.47 1.35L5.41 20z\"/>\n",
              "  </svg>\n",
              "      </button>\n",
              "      \n",
              "  <style>\n",
              "    .colab-df-container {\n",
              "      display:flex;\n",
              "      flex-wrap:wrap;\n",
              "      gap: 12px;\n",
              "    }\n",
              "\n",
              "    .colab-df-convert {\n",
              "      background-color: #E8F0FE;\n",
              "      border: none;\n",
              "      border-radius: 50%;\n",
              "      cursor: pointer;\n",
              "      display: none;\n",
              "      fill: #1967D2;\n",
              "      height: 32px;\n",
              "      padding: 0 0 0 0;\n",
              "      width: 32px;\n",
              "    }\n",
              "\n",
              "    .colab-df-convert:hover {\n",
              "      background-color: #E2EBFA;\n",
              "      box-shadow: 0px 1px 2px rgba(60, 64, 67, 0.3), 0px 1px 3px 1px rgba(60, 64, 67, 0.15);\n",
              "      fill: #174EA6;\n",
              "    }\n",
              "\n",
              "    [theme=dark] .colab-df-convert {\n",
              "      background-color: #3B4455;\n",
              "      fill: #D2E3FC;\n",
              "    }\n",
              "\n",
              "    [theme=dark] .colab-df-convert:hover {\n",
              "      background-color: #434B5C;\n",
              "      box-shadow: 0px 1px 3px 1px rgba(0, 0, 0, 0.15);\n",
              "      filter: drop-shadow(0px 1px 2px rgba(0, 0, 0, 0.3));\n",
              "      fill: #FFFFFF;\n",
              "    }\n",
              "  </style>\n",
              "\n",
              "      <script>\n",
              "        const buttonEl =\n",
              "          document.querySelector('#df-91dcada3-1ac0-43a9-8ded-5c265c065698 button.colab-df-convert');\n",
              "        buttonEl.style.display =\n",
              "          google.colab.kernel.accessAllowed ? 'block' : 'none';\n",
              "\n",
              "        async function convertToInteractive(key) {\n",
              "          const element = document.querySelector('#df-91dcada3-1ac0-43a9-8ded-5c265c065698');\n",
              "          const dataTable =\n",
              "            await google.colab.kernel.invokeFunction('convertToInteractive',\n",
              "                                                     [key], {});\n",
              "          if (!dataTable) return;\n",
              "\n",
              "          const docLinkHtml = 'Like what you see? Visit the ' +\n",
              "            '<a target=\"_blank\" href=https://colab.research.google.com/notebooks/data_table.ipynb>data table notebook</a>'\n",
              "            + ' to learn more about interactive tables.';\n",
              "          element.innerHTML = '';\n",
              "          dataTable['output_type'] = 'display_data';\n",
              "          await google.colab.output.renderOutput(dataTable, element);\n",
              "          const docLink = document.createElement('div');\n",
              "          docLink.innerHTML = docLinkHtml;\n",
              "          element.appendChild(docLink);\n",
              "        }\n",
              "      </script>\n",
              "    </div>\n",
              "  </div>\n",
              "  "
            ]
          },
          "metadata": {},
          "execution_count": 10
        }
      ]
    },
    {
      "cell_type": "code",
      "source": [
        "#teniendo en cuenta que hay daos que no se muestran se verifica el tipo de dato para cada columna \n",
        "data.dtypes"
      ],
      "metadata": {
        "colab": {
          "base_uri": "https://localhost:8080/"
        },
        "id": "ilfwcBjUEpgM",
        "outputId": "5219d194-278e-403c-93c2-d016f49ba80f"
      },
      "execution_count": null,
      "outputs": [
        {
          "output_type": "execute_result",
          "data": {
            "text/plain": [
              "Unnamed: 0            int64\n",
              "Hour                  int64\n",
              "HR                  float64\n",
              "O2Sat               float64\n",
              "Temp                float64\n",
              "SBP                 float64\n",
              "MAP                 float64\n",
              "DBP                 float64\n",
              "Resp                float64\n",
              "EtCO2               float64\n",
              "BaseExcess          float64\n",
              "HCO3                float64\n",
              "FiO2                float64\n",
              "pH                  float64\n",
              "PaCO2               float64\n",
              "SaO2                float64\n",
              "AST                 float64\n",
              "BUN                 float64\n",
              "Alkalinephos        float64\n",
              "Calcium             float64\n",
              "Chloride            float64\n",
              "Creatinine          float64\n",
              "Bilirubin_direct    float64\n",
              "Glucose             float64\n",
              "Lactate             float64\n",
              "Magnesium           float64\n",
              "Phosphate           float64\n",
              "Potassium           float64\n",
              "Bilirubin_total     float64\n",
              "TroponinI           float64\n",
              "Hct                 float64\n",
              "Hgb                 float64\n",
              "PTT                 float64\n",
              "WBC                 float64\n",
              "Fibrinogen          float64\n",
              "Platelets           float64\n",
              "Age                 float64\n",
              "Gender                int64\n",
              "Unit1               float64\n",
              "Unit2               float64\n",
              "HospAdmTime         float64\n",
              "ICULOS                int64\n",
              "SepsisLabel           int64\n",
              "Patient_ID            int64\n",
              "dtype: object"
            ]
          },
          "metadata": {},
          "execution_count": 11
        }
      ]
    },
    {
      "cell_type": "code",
      "source": [
        "# El método describe() se usa para calcular algunos datos estadísticos como el percentil,\n",
        "# la media y el estándar de los valores numéricos de la serie o el marco de datos\n",
        "\n",
        "data.describe(include=\"all\",datetime_is_numeric=True)"
      ],
      "metadata": {
        "colab": {
          "base_uri": "https://localhost:8080/",
          "height": 364
        },
        "id": "3jGJw8BSDCkJ",
        "outputId": "6c66f8ec-9255-4e2f-8a56-499599462706"
      },
      "execution_count": null,
      "outputs": [
        {
          "output_type": "execute_result",
          "data": {
            "text/plain": [
              "         Unnamed: 0          Hour            HR         O2Sat           Temp  \\\n",
              "count  1.552210e+06  1.552210e+06  1.398811e+06  1.349474e+06  525226.000000   \n",
              "mean   2.549274e+01  2.549274e+01  8.458144e+01  9.719395e+01      36.977228   \n",
              "std    2.888256e+01  2.888256e+01  1.732524e+01  2.936924e+00       0.770014   \n",
              "min    0.000000e+00  0.000000e+00  2.000000e+01  2.000000e+01      20.900000   \n",
              "25%    9.000000e+00  9.000000e+00  7.200000e+01  9.600000e+01      36.500000   \n",
              "50%    1.900000e+01  1.900000e+01  8.350000e+01  9.800000e+01      37.000000   \n",
              "75%    3.300000e+01  3.300000e+01  9.550000e+01  9.950000e+01      37.500000   \n",
              "max    3.350000e+02  3.350000e+02  2.800000e+02  1.000000e+02      50.000000   \n",
              "\n",
              "                SBP           MAP           DBP          Resp         EtCO2  \\\n",
              "count  1.325945e+06  1.358940e+06  1.065656e+06  1.313875e+06  57636.000000   \n",
              "mean   1.237505e+02  8.240010e+01  6.383056e+01  1.872650e+01     32.957657   \n",
              "std    2.323156e+01  1.634175e+01  1.395601e+01  5.098194e+00      7.951662   \n",
              "min    2.000000e+01  2.000000e+01  2.000000e+01  1.000000e+00     10.000000   \n",
              "25%    1.070000e+02  7.100000e+01  5.400000e+01  1.500000e+01     28.000000   \n",
              "50%    1.210000e+02  8.000000e+01  6.200000e+01  1.800000e+01     33.000000   \n",
              "75%    1.380000e+02  9.200000e+01  7.200000e+01  2.150000e+01     38.000000   \n",
              "max    3.000000e+02  3.000000e+02  3.000000e+02  1.000000e+02    100.000000   \n",
              "\n",
              "         BaseExcess          HCO3           FiO2             pH         PaCO2  \\\n",
              "count  84145.000000  65028.000000  129365.000000  107573.000000  86301.000000   \n",
              "mean      -0.689919     24.075481       0.554839       7.378934     41.021869   \n",
              "std        4.294297      4.376504      11.123207       0.074568      9.267242   \n",
              "min      -32.000000      0.000000     -50.000000       6.620000     10.000000   \n",
              "25%       -3.000000     22.000000       0.400000       7.340000     35.000000   \n",
              "50%        0.000000     24.000000       0.500000       7.380000     40.000000   \n",
              "75%        1.000000     26.800000       0.600000       7.430000     45.000000   \n",
              "max      100.000000     55.000000    4000.000000       7.930000    100.000000   \n",
              "\n",
              "               SaO2           AST            BUN  Alkalinephos       Calcium  \\\n",
              "count  53561.000000  25183.000000  106568.000000  24941.000000  91331.000000   \n",
              "mean      92.654188    260.223385      23.915452    102.483661      7.557531   \n",
              "std       10.892986    855.746795      19.994317    120.122746      2.433152   \n",
              "min       23.000000      3.000000       1.000000      7.000000      1.000000   \n",
              "25%       94.000000     22.000000      12.000000     54.000000      7.700000   \n",
              "50%       97.000000     41.000000      17.000000     74.000000      8.300000   \n",
              "75%       98.000000    111.000000      28.000000    108.000000      8.700000   \n",
              "max      100.000000   9961.000000     268.000000   3833.000000     27.900000   \n",
              "\n",
              "           Chloride    Creatinine  Bilirubin_direct        Glucose  \\\n",
              "count  70466.000000  94616.000000       2990.000000  265516.000000   \n",
              "mean     105.827910      1.510699          1.836177     136.932283   \n",
              "std        5.880462      1.805603          3.694082      51.310728   \n",
              "min       26.000000      0.100000          0.010000      10.000000   \n",
              "25%      102.000000      0.700000          0.200000     106.000000   \n",
              "50%      106.000000      0.940000          0.445000     127.000000   \n",
              "75%      109.000000      1.430000          1.700000     153.000000   \n",
              "max      145.000000     46.600000         37.500000     988.000000   \n",
              "\n",
              "            Lactate     Magnesium     Phosphate      Potassium  \\\n",
              "count  41446.000000  97951.000000  62301.000000  144525.000000   \n",
              "mean       2.646666      2.051450      3.544238       4.135528   \n",
              "std        2.526214      0.397898      1.423286       0.642150   \n",
              "min        0.200000      0.200000      0.200000       1.000000   \n",
              "25%        1.260000      1.800000      2.600000       3.700000   \n",
              "50%        1.800000      2.000000      3.300000       4.100000   \n",
              "75%        3.000000      2.200000      4.100000       4.400000   \n",
              "max       31.000000      9.800000     18.800000      27.500000   \n",
              "\n",
              "       Bilirubin_total     TroponinI            Hct            Hgb  \\\n",
              "count     23141.000000  14781.000000  137433.000000  114591.000000   \n",
              "mean          2.114059      8.290099      30.794093      10.430833   \n",
              "std           4.311468     24.806235       5.491749       1.968661   \n",
              "min           0.100000      0.010000       5.500000       2.200000   \n",
              "25%           0.500000      0.040000      27.000000       9.100000   \n",
              "50%           0.900000      0.300000      30.300000      10.300000   \n",
              "75%           1.700000      3.980000      34.100000      11.700000   \n",
              "max          49.600000    440.000000      71.700000      32.000000   \n",
              "\n",
              "                PTT           WBC    Fibrinogen     Platelets           Age  \\\n",
              "count  45699.000000  99447.000000  10242.000000  92209.000000  1.552210e+06   \n",
              "mean      41.231193     11.446405    287.385706    196.013911  6.200947e+01   \n",
              "std       26.217669      7.731013    153.002908    103.635366  1.638622e+01   \n",
              "min       12.500000      0.100000     34.000000      1.000000  1.400000e+01   \n",
              "25%       27.800000      7.600000    184.000000    126.000000  5.168000e+01   \n",
              "50%       32.400000     10.300000    250.000000    181.000000  6.400000e+01   \n",
              "75%       42.800000     13.800000    349.000000    244.000000  7.400000e+01   \n",
              "max      250.000000    440.000000   1760.000000   2322.000000  1.000000e+02   \n",
              "\n",
              "             Gender          Unit1          Unit2   HospAdmTime        ICULOS  \\\n",
              "count  1.552210e+06  940250.000000  940250.000000  1.552202e+06  1.552210e+06   \n",
              "mean   5.592690e-01       0.496571       0.503429 -5.612512e+01  2.699499e+01   \n",
              "std    4.964749e-01       0.499989       0.499989  1.622569e+02  2.900542e+01   \n",
              "min    0.000000e+00       0.000000       0.000000 -5.366860e+03  1.000000e+00   \n",
              "25%    0.000000e+00       0.000000       0.000000 -4.705000e+01  1.100000e+01   \n",
              "50%    1.000000e+00       0.000000       1.000000 -6.030000e+00  2.100000e+01   \n",
              "75%    1.000000e+00       1.000000       1.000000 -4.000000e-02  3.400000e+01   \n",
              "max    1.000000e+00       1.000000       1.000000  2.399000e+01  3.360000e+02   \n",
              "\n",
              "        SepsisLabel    Patient_ID  \n",
              "count  1.552210e+06  1.552210e+06  \n",
              "mean   1.798468e-02  5.920148e+04  \n",
              "std    1.328956e-01  5.024819e+04  \n",
              "min    0.000000e+00  1.000000e+00  \n",
              "25%    0.000000e+00  9.990000e+03  \n",
              "50%    0.000000e+00  1.996500e+04  \n",
              "75%    0.000000e+00  1.098780e+05  \n",
              "max    1.000000e+00  1.200000e+05  "
            ],
            "text/html": [
              "\n",
              "  <div id=\"df-06af4041-f760-42c1-b27d-8917fc2d926c\">\n",
              "    <div class=\"colab-df-container\">\n",
              "      <div>\n",
              "<style scoped>\n",
              "    .dataframe tbody tr th:only-of-type {\n",
              "        vertical-align: middle;\n",
              "    }\n",
              "\n",
              "    .dataframe tbody tr th {\n",
              "        vertical-align: top;\n",
              "    }\n",
              "\n",
              "    .dataframe thead th {\n",
              "        text-align: right;\n",
              "    }\n",
              "</style>\n",
              "<table border=\"1\" class=\"dataframe\">\n",
              "  <thead>\n",
              "    <tr style=\"text-align: right;\">\n",
              "      <th></th>\n",
              "      <th>Unnamed: 0</th>\n",
              "      <th>Hour</th>\n",
              "      <th>HR</th>\n",
              "      <th>O2Sat</th>\n",
              "      <th>Temp</th>\n",
              "      <th>SBP</th>\n",
              "      <th>MAP</th>\n",
              "      <th>DBP</th>\n",
              "      <th>Resp</th>\n",
              "      <th>EtCO2</th>\n",
              "      <th>BaseExcess</th>\n",
              "      <th>HCO3</th>\n",
              "      <th>FiO2</th>\n",
              "      <th>pH</th>\n",
              "      <th>PaCO2</th>\n",
              "      <th>SaO2</th>\n",
              "      <th>AST</th>\n",
              "      <th>BUN</th>\n",
              "      <th>Alkalinephos</th>\n",
              "      <th>Calcium</th>\n",
              "      <th>Chloride</th>\n",
              "      <th>Creatinine</th>\n",
              "      <th>Bilirubin_direct</th>\n",
              "      <th>Glucose</th>\n",
              "      <th>Lactate</th>\n",
              "      <th>Magnesium</th>\n",
              "      <th>Phosphate</th>\n",
              "      <th>Potassium</th>\n",
              "      <th>Bilirubin_total</th>\n",
              "      <th>TroponinI</th>\n",
              "      <th>Hct</th>\n",
              "      <th>Hgb</th>\n",
              "      <th>PTT</th>\n",
              "      <th>WBC</th>\n",
              "      <th>Fibrinogen</th>\n",
              "      <th>Platelets</th>\n",
              "      <th>Age</th>\n",
              "      <th>Gender</th>\n",
              "      <th>Unit1</th>\n",
              "      <th>Unit2</th>\n",
              "      <th>HospAdmTime</th>\n",
              "      <th>ICULOS</th>\n",
              "      <th>SepsisLabel</th>\n",
              "      <th>Patient_ID</th>\n",
              "    </tr>\n",
              "  </thead>\n",
              "  <tbody>\n",
              "    <tr>\n",
              "      <th>count</th>\n",
              "      <td>1.552210e+06</td>\n",
              "      <td>1.552210e+06</td>\n",
              "      <td>1.398811e+06</td>\n",
              "      <td>1.349474e+06</td>\n",
              "      <td>525226.000000</td>\n",
              "      <td>1.325945e+06</td>\n",
              "      <td>1.358940e+06</td>\n",
              "      <td>1.065656e+06</td>\n",
              "      <td>1.313875e+06</td>\n",
              "      <td>57636.000000</td>\n",
              "      <td>84145.000000</td>\n",
              "      <td>65028.000000</td>\n",
              "      <td>129365.000000</td>\n",
              "      <td>107573.000000</td>\n",
              "      <td>86301.000000</td>\n",
              "      <td>53561.000000</td>\n",
              "      <td>25183.000000</td>\n",
              "      <td>106568.000000</td>\n",
              "      <td>24941.000000</td>\n",
              "      <td>91331.000000</td>\n",
              "      <td>70466.000000</td>\n",
              "      <td>94616.000000</td>\n",
              "      <td>2990.000000</td>\n",
              "      <td>265516.000000</td>\n",
              "      <td>41446.000000</td>\n",
              "      <td>97951.000000</td>\n",
              "      <td>62301.000000</td>\n",
              "      <td>144525.000000</td>\n",
              "      <td>23141.000000</td>\n",
              "      <td>14781.000000</td>\n",
              "      <td>137433.000000</td>\n",
              "      <td>114591.000000</td>\n",
              "      <td>45699.000000</td>\n",
              "      <td>99447.000000</td>\n",
              "      <td>10242.000000</td>\n",
              "      <td>92209.000000</td>\n",
              "      <td>1.552210e+06</td>\n",
              "      <td>1.552210e+06</td>\n",
              "      <td>940250.000000</td>\n",
              "      <td>940250.000000</td>\n",
              "      <td>1.552202e+06</td>\n",
              "      <td>1.552210e+06</td>\n",
              "      <td>1.552210e+06</td>\n",
              "      <td>1.552210e+06</td>\n",
              "    </tr>\n",
              "    <tr>\n",
              "      <th>mean</th>\n",
              "      <td>2.549274e+01</td>\n",
              "      <td>2.549274e+01</td>\n",
              "      <td>8.458144e+01</td>\n",
              "      <td>9.719395e+01</td>\n",
              "      <td>36.977228</td>\n",
              "      <td>1.237505e+02</td>\n",
              "      <td>8.240010e+01</td>\n",
              "      <td>6.383056e+01</td>\n",
              "      <td>1.872650e+01</td>\n",
              "      <td>32.957657</td>\n",
              "      <td>-0.689919</td>\n",
              "      <td>24.075481</td>\n",
              "      <td>0.554839</td>\n",
              "      <td>7.378934</td>\n",
              "      <td>41.021869</td>\n",
              "      <td>92.654188</td>\n",
              "      <td>260.223385</td>\n",
              "      <td>23.915452</td>\n",
              "      <td>102.483661</td>\n",
              "      <td>7.557531</td>\n",
              "      <td>105.827910</td>\n",
              "      <td>1.510699</td>\n",
              "      <td>1.836177</td>\n",
              "      <td>136.932283</td>\n",
              "      <td>2.646666</td>\n",
              "      <td>2.051450</td>\n",
              "      <td>3.544238</td>\n",
              "      <td>4.135528</td>\n",
              "      <td>2.114059</td>\n",
              "      <td>8.290099</td>\n",
              "      <td>30.794093</td>\n",
              "      <td>10.430833</td>\n",
              "      <td>41.231193</td>\n",
              "      <td>11.446405</td>\n",
              "      <td>287.385706</td>\n",
              "      <td>196.013911</td>\n",
              "      <td>6.200947e+01</td>\n",
              "      <td>5.592690e-01</td>\n",
              "      <td>0.496571</td>\n",
              "      <td>0.503429</td>\n",
              "      <td>-5.612512e+01</td>\n",
              "      <td>2.699499e+01</td>\n",
              "      <td>1.798468e-02</td>\n",
              "      <td>5.920148e+04</td>\n",
              "    </tr>\n",
              "    <tr>\n",
              "      <th>std</th>\n",
              "      <td>2.888256e+01</td>\n",
              "      <td>2.888256e+01</td>\n",
              "      <td>1.732524e+01</td>\n",
              "      <td>2.936924e+00</td>\n",
              "      <td>0.770014</td>\n",
              "      <td>2.323156e+01</td>\n",
              "      <td>1.634175e+01</td>\n",
              "      <td>1.395601e+01</td>\n",
              "      <td>5.098194e+00</td>\n",
              "      <td>7.951662</td>\n",
              "      <td>4.294297</td>\n",
              "      <td>4.376504</td>\n",
              "      <td>11.123207</td>\n",
              "      <td>0.074568</td>\n",
              "      <td>9.267242</td>\n",
              "      <td>10.892986</td>\n",
              "      <td>855.746795</td>\n",
              "      <td>19.994317</td>\n",
              "      <td>120.122746</td>\n",
              "      <td>2.433152</td>\n",
              "      <td>5.880462</td>\n",
              "      <td>1.805603</td>\n",
              "      <td>3.694082</td>\n",
              "      <td>51.310728</td>\n",
              "      <td>2.526214</td>\n",
              "      <td>0.397898</td>\n",
              "      <td>1.423286</td>\n",
              "      <td>0.642150</td>\n",
              "      <td>4.311468</td>\n",
              "      <td>24.806235</td>\n",
              "      <td>5.491749</td>\n",
              "      <td>1.968661</td>\n",
              "      <td>26.217669</td>\n",
              "      <td>7.731013</td>\n",
              "      <td>153.002908</td>\n",
              "      <td>103.635366</td>\n",
              "      <td>1.638622e+01</td>\n",
              "      <td>4.964749e-01</td>\n",
              "      <td>0.499989</td>\n",
              "      <td>0.499989</td>\n",
              "      <td>1.622569e+02</td>\n",
              "      <td>2.900542e+01</td>\n",
              "      <td>1.328956e-01</td>\n",
              "      <td>5.024819e+04</td>\n",
              "    </tr>\n",
              "    <tr>\n",
              "      <th>min</th>\n",
              "      <td>0.000000e+00</td>\n",
              "      <td>0.000000e+00</td>\n",
              "      <td>2.000000e+01</td>\n",
              "      <td>2.000000e+01</td>\n",
              "      <td>20.900000</td>\n",
              "      <td>2.000000e+01</td>\n",
              "      <td>2.000000e+01</td>\n",
              "      <td>2.000000e+01</td>\n",
              "      <td>1.000000e+00</td>\n",
              "      <td>10.000000</td>\n",
              "      <td>-32.000000</td>\n",
              "      <td>0.000000</td>\n",
              "      <td>-50.000000</td>\n",
              "      <td>6.620000</td>\n",
              "      <td>10.000000</td>\n",
              "      <td>23.000000</td>\n",
              "      <td>3.000000</td>\n",
              "      <td>1.000000</td>\n",
              "      <td>7.000000</td>\n",
              "      <td>1.000000</td>\n",
              "      <td>26.000000</td>\n",
              "      <td>0.100000</td>\n",
              "      <td>0.010000</td>\n",
              "      <td>10.000000</td>\n",
              "      <td>0.200000</td>\n",
              "      <td>0.200000</td>\n",
              "      <td>0.200000</td>\n",
              "      <td>1.000000</td>\n",
              "      <td>0.100000</td>\n",
              "      <td>0.010000</td>\n",
              "      <td>5.500000</td>\n",
              "      <td>2.200000</td>\n",
              "      <td>12.500000</td>\n",
              "      <td>0.100000</td>\n",
              "      <td>34.000000</td>\n",
              "      <td>1.000000</td>\n",
              "      <td>1.400000e+01</td>\n",
              "      <td>0.000000e+00</td>\n",
              "      <td>0.000000</td>\n",
              "      <td>0.000000</td>\n",
              "      <td>-5.366860e+03</td>\n",
              "      <td>1.000000e+00</td>\n",
              "      <td>0.000000e+00</td>\n",
              "      <td>1.000000e+00</td>\n",
              "    </tr>\n",
              "    <tr>\n",
              "      <th>25%</th>\n",
              "      <td>9.000000e+00</td>\n",
              "      <td>9.000000e+00</td>\n",
              "      <td>7.200000e+01</td>\n",
              "      <td>9.600000e+01</td>\n",
              "      <td>36.500000</td>\n",
              "      <td>1.070000e+02</td>\n",
              "      <td>7.100000e+01</td>\n",
              "      <td>5.400000e+01</td>\n",
              "      <td>1.500000e+01</td>\n",
              "      <td>28.000000</td>\n",
              "      <td>-3.000000</td>\n",
              "      <td>22.000000</td>\n",
              "      <td>0.400000</td>\n",
              "      <td>7.340000</td>\n",
              "      <td>35.000000</td>\n",
              "      <td>94.000000</td>\n",
              "      <td>22.000000</td>\n",
              "      <td>12.000000</td>\n",
              "      <td>54.000000</td>\n",
              "      <td>7.700000</td>\n",
              "      <td>102.000000</td>\n",
              "      <td>0.700000</td>\n",
              "      <td>0.200000</td>\n",
              "      <td>106.000000</td>\n",
              "      <td>1.260000</td>\n",
              "      <td>1.800000</td>\n",
              "      <td>2.600000</td>\n",
              "      <td>3.700000</td>\n",
              "      <td>0.500000</td>\n",
              "      <td>0.040000</td>\n",
              "      <td>27.000000</td>\n",
              "      <td>9.100000</td>\n",
              "      <td>27.800000</td>\n",
              "      <td>7.600000</td>\n",
              "      <td>184.000000</td>\n",
              "      <td>126.000000</td>\n",
              "      <td>5.168000e+01</td>\n",
              "      <td>0.000000e+00</td>\n",
              "      <td>0.000000</td>\n",
              "      <td>0.000000</td>\n",
              "      <td>-4.705000e+01</td>\n",
              "      <td>1.100000e+01</td>\n",
              "      <td>0.000000e+00</td>\n",
              "      <td>9.990000e+03</td>\n",
              "    </tr>\n",
              "    <tr>\n",
              "      <th>50%</th>\n",
              "      <td>1.900000e+01</td>\n",
              "      <td>1.900000e+01</td>\n",
              "      <td>8.350000e+01</td>\n",
              "      <td>9.800000e+01</td>\n",
              "      <td>37.000000</td>\n",
              "      <td>1.210000e+02</td>\n",
              "      <td>8.000000e+01</td>\n",
              "      <td>6.200000e+01</td>\n",
              "      <td>1.800000e+01</td>\n",
              "      <td>33.000000</td>\n",
              "      <td>0.000000</td>\n",
              "      <td>24.000000</td>\n",
              "      <td>0.500000</td>\n",
              "      <td>7.380000</td>\n",
              "      <td>40.000000</td>\n",
              "      <td>97.000000</td>\n",
              "      <td>41.000000</td>\n",
              "      <td>17.000000</td>\n",
              "      <td>74.000000</td>\n",
              "      <td>8.300000</td>\n",
              "      <td>106.000000</td>\n",
              "      <td>0.940000</td>\n",
              "      <td>0.445000</td>\n",
              "      <td>127.000000</td>\n",
              "      <td>1.800000</td>\n",
              "      <td>2.000000</td>\n",
              "      <td>3.300000</td>\n",
              "      <td>4.100000</td>\n",
              "      <td>0.900000</td>\n",
              "      <td>0.300000</td>\n",
              "      <td>30.300000</td>\n",
              "      <td>10.300000</td>\n",
              "      <td>32.400000</td>\n",
              "      <td>10.300000</td>\n",
              "      <td>250.000000</td>\n",
              "      <td>181.000000</td>\n",
              "      <td>6.400000e+01</td>\n",
              "      <td>1.000000e+00</td>\n",
              "      <td>0.000000</td>\n",
              "      <td>1.000000</td>\n",
              "      <td>-6.030000e+00</td>\n",
              "      <td>2.100000e+01</td>\n",
              "      <td>0.000000e+00</td>\n",
              "      <td>1.996500e+04</td>\n",
              "    </tr>\n",
              "    <tr>\n",
              "      <th>75%</th>\n",
              "      <td>3.300000e+01</td>\n",
              "      <td>3.300000e+01</td>\n",
              "      <td>9.550000e+01</td>\n",
              "      <td>9.950000e+01</td>\n",
              "      <td>37.500000</td>\n",
              "      <td>1.380000e+02</td>\n",
              "      <td>9.200000e+01</td>\n",
              "      <td>7.200000e+01</td>\n",
              "      <td>2.150000e+01</td>\n",
              "      <td>38.000000</td>\n",
              "      <td>1.000000</td>\n",
              "      <td>26.800000</td>\n",
              "      <td>0.600000</td>\n",
              "      <td>7.430000</td>\n",
              "      <td>45.000000</td>\n",
              "      <td>98.000000</td>\n",
              "      <td>111.000000</td>\n",
              "      <td>28.000000</td>\n",
              "      <td>108.000000</td>\n",
              "      <td>8.700000</td>\n",
              "      <td>109.000000</td>\n",
              "      <td>1.430000</td>\n",
              "      <td>1.700000</td>\n",
              "      <td>153.000000</td>\n",
              "      <td>3.000000</td>\n",
              "      <td>2.200000</td>\n",
              "      <td>4.100000</td>\n",
              "      <td>4.400000</td>\n",
              "      <td>1.700000</td>\n",
              "      <td>3.980000</td>\n",
              "      <td>34.100000</td>\n",
              "      <td>11.700000</td>\n",
              "      <td>42.800000</td>\n",
              "      <td>13.800000</td>\n",
              "      <td>349.000000</td>\n",
              "      <td>244.000000</td>\n",
              "      <td>7.400000e+01</td>\n",
              "      <td>1.000000e+00</td>\n",
              "      <td>1.000000</td>\n",
              "      <td>1.000000</td>\n",
              "      <td>-4.000000e-02</td>\n",
              "      <td>3.400000e+01</td>\n",
              "      <td>0.000000e+00</td>\n",
              "      <td>1.098780e+05</td>\n",
              "    </tr>\n",
              "    <tr>\n",
              "      <th>max</th>\n",
              "      <td>3.350000e+02</td>\n",
              "      <td>3.350000e+02</td>\n",
              "      <td>2.800000e+02</td>\n",
              "      <td>1.000000e+02</td>\n",
              "      <td>50.000000</td>\n",
              "      <td>3.000000e+02</td>\n",
              "      <td>3.000000e+02</td>\n",
              "      <td>3.000000e+02</td>\n",
              "      <td>1.000000e+02</td>\n",
              "      <td>100.000000</td>\n",
              "      <td>100.000000</td>\n",
              "      <td>55.000000</td>\n",
              "      <td>4000.000000</td>\n",
              "      <td>7.930000</td>\n",
              "      <td>100.000000</td>\n",
              "      <td>100.000000</td>\n",
              "      <td>9961.000000</td>\n",
              "      <td>268.000000</td>\n",
              "      <td>3833.000000</td>\n",
              "      <td>27.900000</td>\n",
              "      <td>145.000000</td>\n",
              "      <td>46.600000</td>\n",
              "      <td>37.500000</td>\n",
              "      <td>988.000000</td>\n",
              "      <td>31.000000</td>\n",
              "      <td>9.800000</td>\n",
              "      <td>18.800000</td>\n",
              "      <td>27.500000</td>\n",
              "      <td>49.600000</td>\n",
              "      <td>440.000000</td>\n",
              "      <td>71.700000</td>\n",
              "      <td>32.000000</td>\n",
              "      <td>250.000000</td>\n",
              "      <td>440.000000</td>\n",
              "      <td>1760.000000</td>\n",
              "      <td>2322.000000</td>\n",
              "      <td>1.000000e+02</td>\n",
              "      <td>1.000000e+00</td>\n",
              "      <td>1.000000</td>\n",
              "      <td>1.000000</td>\n",
              "      <td>2.399000e+01</td>\n",
              "      <td>3.360000e+02</td>\n",
              "      <td>1.000000e+00</td>\n",
              "      <td>1.200000e+05</td>\n",
              "    </tr>\n",
              "  </tbody>\n",
              "</table>\n",
              "</div>\n",
              "      <button class=\"colab-df-convert\" onclick=\"convertToInteractive('df-06af4041-f760-42c1-b27d-8917fc2d926c')\"\n",
              "              title=\"Convert this dataframe to an interactive table.\"\n",
              "              style=\"display:none;\">\n",
              "        \n",
              "  <svg xmlns=\"http://www.w3.org/2000/svg\" height=\"24px\"viewBox=\"0 0 24 24\"\n",
              "       width=\"24px\">\n",
              "    <path d=\"M0 0h24v24H0V0z\" fill=\"none\"/>\n",
              "    <path d=\"M18.56 5.44l.94 2.06.94-2.06 2.06-.94-2.06-.94-.94-2.06-.94 2.06-2.06.94zm-11 1L8.5 8.5l.94-2.06 2.06-.94-2.06-.94L8.5 2.5l-.94 2.06-2.06.94zm10 10l.94 2.06.94-2.06 2.06-.94-2.06-.94-.94-2.06-.94 2.06-2.06.94z\"/><path d=\"M17.41 7.96l-1.37-1.37c-.4-.4-.92-.59-1.43-.59-.52 0-1.04.2-1.43.59L10.3 9.45l-7.72 7.72c-.78.78-.78 2.05 0 2.83L4 21.41c.39.39.9.59 1.41.59.51 0 1.02-.2 1.41-.59l7.78-7.78 2.81-2.81c.8-.78.8-2.07 0-2.86zM5.41 20L4 18.59l7.72-7.72 1.47 1.35L5.41 20z\"/>\n",
              "  </svg>\n",
              "      </button>\n",
              "      \n",
              "  <style>\n",
              "    .colab-df-container {\n",
              "      display:flex;\n",
              "      flex-wrap:wrap;\n",
              "      gap: 12px;\n",
              "    }\n",
              "\n",
              "    .colab-df-convert {\n",
              "      background-color: #E8F0FE;\n",
              "      border: none;\n",
              "      border-radius: 50%;\n",
              "      cursor: pointer;\n",
              "      display: none;\n",
              "      fill: #1967D2;\n",
              "      height: 32px;\n",
              "      padding: 0 0 0 0;\n",
              "      width: 32px;\n",
              "    }\n",
              "\n",
              "    .colab-df-convert:hover {\n",
              "      background-color: #E2EBFA;\n",
              "      box-shadow: 0px 1px 2px rgba(60, 64, 67, 0.3), 0px 1px 3px 1px rgba(60, 64, 67, 0.15);\n",
              "      fill: #174EA6;\n",
              "    }\n",
              "\n",
              "    [theme=dark] .colab-df-convert {\n",
              "      background-color: #3B4455;\n",
              "      fill: #D2E3FC;\n",
              "    }\n",
              "\n",
              "    [theme=dark] .colab-df-convert:hover {\n",
              "      background-color: #434B5C;\n",
              "      box-shadow: 0px 1px 3px 1px rgba(0, 0, 0, 0.15);\n",
              "      filter: drop-shadow(0px 1px 2px rgba(0, 0, 0, 0.3));\n",
              "      fill: #FFFFFF;\n",
              "    }\n",
              "  </style>\n",
              "\n",
              "      <script>\n",
              "        const buttonEl =\n",
              "          document.querySelector('#df-06af4041-f760-42c1-b27d-8917fc2d926c button.colab-df-convert');\n",
              "        buttonEl.style.display =\n",
              "          google.colab.kernel.accessAllowed ? 'block' : 'none';\n",
              "\n",
              "        async function convertToInteractive(key) {\n",
              "          const element = document.querySelector('#df-06af4041-f760-42c1-b27d-8917fc2d926c');\n",
              "          const dataTable =\n",
              "            await google.colab.kernel.invokeFunction('convertToInteractive',\n",
              "                                                     [key], {});\n",
              "          if (!dataTable) return;\n",
              "\n",
              "          const docLinkHtml = 'Like what you see? Visit the ' +\n",
              "            '<a target=\"_blank\" href=https://colab.research.google.com/notebooks/data_table.ipynb>data table notebook</a>'\n",
              "            + ' to learn more about interactive tables.';\n",
              "          element.innerHTML = '';\n",
              "          dataTable['output_type'] = 'display_data';\n",
              "          await google.colab.output.renderOutput(dataTable, element);\n",
              "          const docLink = document.createElement('div');\n",
              "          docLink.innerHTML = docLinkHtml;\n",
              "          element.appendChild(docLink);\n",
              "        }\n",
              "      </script>\n",
              "    </div>\n",
              "  </div>\n",
              "  "
            ]
          },
          "metadata": {},
          "execution_count": 12
        }
      ]
    },
    {
      "cell_type": "code",
      "source": [
        "#Inspeccion visual de los datos en grafica\n",
        "round(100*(data.isnull().sum()/len(data.index)),2).plot.bar(figsize=(15,5))"
      ],
      "metadata": {
        "colab": {
          "base_uri": "https://localhost:8080/",
          "height": 302
        },
        "id": "YhmCAoMxy65q",
        "outputId": "7c357b3d-8bec-4bd2-9c69-c499ebbcbbc4"
      },
      "execution_count": null,
      "outputs": [
        {
          "output_type": "execute_result",
          "data": {
            "text/plain": [
              "<matplotlib.axes._subplots.AxesSubplot at 0x7fb4d9f46a50>"
            ]
          },
          "metadata": {},
          "execution_count": 13
        },
        {
          "output_type": "display_data",
          "data": {
            "text/plain": [
              "<Figure size 1080x360 with 1 Axes>"
            ],
            "image/png": "[encoded data removed]"
          },
          "metadata": {
            "needs_background": "light"
          }
        }
      ]
    },
    {
      "cell_type": "markdown",
      "source": [
        "Para ajustar los datos ya que se evidencia que no estan completos la mayoria se divide en tres grupos que seran:\n",
        "-con sepsis (CS)\n",
        "-Sepsis antes de la admision a UCI(SAU)\n",
        "-Sepsis despues de la admision a UCI(SDU)\n",
        "y tenemos valores de referencia para pacintes sin sepsis \n"
      ],
      "metadata": {
        "id": "RLYpZMe04lrV"
      }
    },
    {
      "cell_type": "code",
      "source": [
        "# obtener la lista de pacientes que tienen sepsis\n",
        "CS=data['Patient_ID'][data['SepsisLabel']==1].unique()\n",
        "# Marco de datos para con sepsis \n",
        "CS_data=data[data.Patient_ID.isin(CS)]"
      ],
      "metadata": {
        "id": "lMyb5siK5Mml"
      },
      "execution_count": null,
      "outputs": []
    },
    {
      "cell_type": "code",
      "source": [
        "# obtener la lista de pacientes que tienen sepsis antes de la admisión a la UCI\n",
        "SAU=data['Patient_ID'][(data['SepsisLabel']==1) & (data['Hour']==0)]\n",
        "# construir marco de datos de pacientes que tienen sepsis antes de la admisión a la UCI\n",
        "SAU_data=data[data.Patient_ID.isin(SAU)]"
      ],
      "metadata": {
        "id": "pwZPt3n65WMY"
      },
      "execution_count": null,
      "outputs": []
    },
    {
      "cell_type": "markdown",
      "source": [
        "Con base a la informacion anterior  podemos construir el marco para los pacientes con sepsis despues de la admision a UCI y los pacientes sin sepsis\n"
      ],
      "metadata": {
        "id": "gy1hyGXx_JBu"
      }
    },
    {
      "cell_type": "code",
      "source": [
        "# construir marco de datos de pacientes que tienen sepsis después de la admisión a la UCI\n",
        "SDU=CS_data.merge(SAU_data, how = 'outer',indicator=True).loc[lambda x: x['_merge']=='left_only']\n"
      ],
      "metadata": {
        "id": "0pV1RHhj7P6_"
      },
      "execution_count": null,
      "outputs": []
    },
    {
      "cell_type": "code",
      "source": [
        "# construir marco de datos de pacientes que no tienen sepsis\n",
        "SS_data= data.merge(CS_data, how = 'outer' ,indicator=True).loc[lambda x : x['_merge']=='left_only']"
      ],
      "metadata": {
        "id": "1jlf03Kv7vR1"
      },
      "execution_count": null,
      "outputs": []
    },
    {
      "cell_type": "markdown",
      "source": [
        "Se crea una nueva columna sepsisType donde se agregaran los valores obtenidos anterior mente para cada grupo"
      ],
      "metadata": {
        "id": "nR2XuAC3_XFX"
      }
    },
    {
      "cell_type": "code",
      "source": [
        "# agregue una nueva columna sepsisType en el marco de datos con valor nulo\n",
        "data['sepsisType']=np.nan"
      ],
      "metadata": {
        "id": "q3RXGu-lAJxu"
      },
      "execution_count": null,
      "outputs": []
    },
    {
      "cell_type": "code",
      "source": [
        "#Acontinuacion se actualizara sepsisType para cada uno de los marcos obtenidos \n",
        "data.loc[data.Patient_ID.isin(SAU), 'sepsisType'] = 'SAU'\n",
        "data.loc[data.Patient_ID.isin(CS) & data['sepsisType'].isnull(), 'sepsisType'] = 'SDU'\n",
        "data.loc[data['sepsisType'].isnull(), 'sepsisType'] = 'SS'\n"
      ],
      "metadata": {
        "id": "m5DUmeR5AapH"
      },
      "execution_count": null,
      "outputs": []
    },
    {
      "cell_type": "code",
      "source": [
        "#validacion de el procedimiento anterior\n",
        "data['sepsisType'].value_counts()"
      ],
      "metadata": {
        "id": "Igint_76Aso7",
        "colab": {
          "base_uri": "https://localhost:8080/"
        },
        "outputId": "2c282789-3190-48ce-e679-aad27a0253a7"
      },
      "execution_count": null,
      "outputs": [
        {
          "output_type": "execute_result",
          "data": {
            "text/plain": [
              "SS     1379800\n",
              "SDU     168764\n",
              "SAU       3646\n",
              "Name: sepsisType, dtype: int64"
            ]
          },
          "metadata": {},
          "execution_count": 20
        }
      ]
    },
    {
      "cell_type": "code",
      "source": [
        "#Se hacede nuevo la inspeccion visual tanto en grafica como en tabla\n",
        "data.head()\n",
        "data['sepsisType'].value_counts().plot.bar()"
      ],
      "metadata": {
        "colab": {
          "base_uri": "https://localhost:8080/",
          "height": 305
        },
        "id": "mMEbw7c5G268",
        "outputId": "f64db308-eab6-4272-cdb7-e54d6c924386"
      },
      "execution_count": null,
      "outputs": [
        {
          "output_type": "execute_result",
          "data": {
            "text/plain": [
              "<matplotlib.axes._subplots.AxesSubplot at 0x7fb4d9fc3b90>"
            ]
          },
          "metadata": {},
          "execution_count": 21
        },
        {
          "output_type": "display_data",
          "data": {
            "text/plain": [
              "<Figure size 432x288 with 1 Axes>"
            ],
            "image/png": "[encoded data removed]"
          },
          "metadata": {
            "needs_background": "light"
          }
        }
      ]
    },
    {
      "cell_type": "markdown",
      "source": [
        "En la siguiente parte, verificamos el total de pacientes para cada condición "
      ],
      "metadata": {
        "id": "h-JuPm0CSGOJ"
      }
    },
    {
      "cell_type": "code",
      "source": [
        "len(pd.unique(data['Patient_ID']))"
      ],
      "metadata": {
        "colab": {
          "base_uri": "https://localhost:8080/"
        },
        "id": "r_RQ51oFR0cj",
        "outputId": "eedad61d-4869-42bd-bdf9-c127244567dc"
      },
      "execution_count": null,
      "outputs": [
        {
          "output_type": "execute_result",
          "data": {
            "text/plain": [
              "40336"
            ]
          },
          "metadata": {},
          "execution_count": 22
        }
      ]
    },
    {
      "cell_type": "code",
      "source": [
        "len(pd.unique(SDU['Patient_ID']))"
      ],
      "metadata": {
        "id": "3DfU8I6CR3gj",
        "colab": {
          "base_uri": "https://localhost:8080/"
        },
        "outputId": "0342b793-149c-44dd-d35d-e9847cefc69e"
      },
      "execution_count": null,
      "outputs": [
        {
          "output_type": "execute_result",
          "data": {
            "text/plain": [
              "2506"
            ]
          },
          "metadata": {},
          "execution_count": 48
        }
      ]
    },
    {
      "cell_type": "code",
      "source": [
        "len(pd.unique(SS_data['Patient_ID']))"
      ],
      "metadata": {
        "colab": {
          "base_uri": "https://localhost:8080/"
        },
        "id": "W0AU8DTpR3uL",
        "outputId": "71b5cb19-e0e0-4b0c-a4dd-82c9cfbc6a7a"
      },
      "execution_count": null,
      "outputs": [
        {
          "output_type": "execute_result",
          "data": {
            "text/plain": [
              "37404"
            ]
          },
          "metadata": {},
          "execution_count": 24
        }
      ]
    },
    {
      "cell_type": "code",
      "source": [
        "len(pd.unique(CS_data['Patient_ID']))"
      ],
      "metadata": {
        "colab": {
          "base_uri": "https://localhost:8080/"
        },
        "id": "6FAV2HM0R-pZ",
        "outputId": "26a48fc2-756b-4e0d-a3b2-005305a2839c"
      },
      "execution_count": null,
      "outputs": [
        {
          "output_type": "execute_result",
          "data": {
            "text/plain": [
              "2932"
            ]
          },
          "metadata": {},
          "execution_count": 25
        }
      ]
    },
    {
      "cell_type": "code",
      "source": [
        "len(pd.unique(SAU_data['Patient_ID']))"
      ],
      "metadata": {
        "colab": {
          "base_uri": "https://localhost:8080/"
        },
        "id": "E3qud7E9NUeI",
        "outputId": "a49710e7-0c7e-43a5-f3cb-f60d479f03a9"
      },
      "execution_count": null,
      "outputs": [
        {
          "output_type": "execute_result",
          "data": {
            "text/plain": [
              "426"
            ]
          },
          "metadata": {},
          "execution_count": 26
        }
      ]
    },
    {
      "cell_type": "markdown",
      "source": [
        "**CALCULO DEL SIRS**\n",
        " \n",
        "El sirs es el sindrome de respuesta inflamatoria sistemarica, con esto podremos evaluar las condiciones de cada paciente para dar una predicción a su psible respuesta inflamatoria"
      ],
      "metadata": {
        "id": "1M_8yld1SoPR"
      }
    },
    {
      "cell_type": "code",
      "source": [
        "condicion=(np.isnan(data['Temp'])& np.isnan(data['HR'])& np.isnan(data['Resp']) &np.isnan(data['WBC']))"
      ],
      "metadata": {
        "id": "lFOHrolITJI8"
      },
      "execution_count": null,
      "outputs": []
    },
    {
      "cell_type": "code",
      "source": [
        "data['hasSIRS'] = np.where(condicion, 1, 0)"
      ],
      "metadata": {
        "id": "p1MdzKJ2T0xv"
      },
      "execution_count": null,
      "outputs": []
    },
    {
      "cell_type": "code",
      "source": [
        "data['hasSIRS'].value_counts()"
      ],
      "metadata": {
        "colab": {
          "base_uri": "https://localhost:8080/"
        },
        "id": "vEioks0WT88_",
        "outputId": "0836f9e9-74d6-4a47-9b5c-04f4b9aeb56b"
      },
      "execution_count": null,
      "outputs": [
        {
          "output_type": "execute_result",
          "data": {
            "text/plain": [
              "0    1408039\n",
              "1     144171\n",
              "Name: hasSIRS, dtype: int64"
            ]
          },
          "metadata": {},
          "execution_count": 29
        }
      ]
    },
    {
      "cell_type": "markdown",
      "source": [
        "Establecemos condiciones para cada variable"
      ],
      "metadata": {
        "id": "nCp_97LAUEAa"
      }
    },
    {
      "cell_type": "code",
      "source": [
        "condicion_temp=(data['Temp']>38) |( data['Temp']<36)\n",
        "condicion_HR=(data['HR']>90)\n",
        "condicion_Resp=(data['Resp']>20) |( data['PaCO2']<32)\n",
        "condicion_wbc=(data['WBC']>12000) |( data['WBC']<4000)"
      ],
      "metadata": {
        "id": "5qHe8wIcUC9W"
      },
      "execution_count": null,
      "outputs": []
    },
    {
      "cell_type": "code",
      "source": [
        "data['SIRS_Score']=np.where(condicion_temp, 1, 0)+np.where(condicion_HR, 1, 0)+np.where(condicion_Resp, 1, 0)+np.where(condicion_wbc, 1, 0)"
      ],
      "metadata": {
        "id": "2RgCpc6AUSRj"
      },
      "execution_count": null,
      "outputs": []
    },
    {
      "cell_type": "code",
      "source": [
        "data['SIRS_Score'].value_counts()"
      ],
      "metadata": {
        "colab": {
          "base_uri": "https://localhost:8080/"
        },
        "id": "1opu2VPhUhef",
        "outputId": "1c44fa34-4caf-4cc7-b2e4-c02b8fbe7aa3"
      },
      "execution_count": null,
      "outputs": [
        {
          "output_type": "execute_result",
          "data": {
            "text/plain": [
              "0    770512\n",
              "1    532866\n",
              "2    221739\n",
              "3     26056\n",
              "4      1037\n",
              "Name: SIRS_Score, dtype: int64"
            ]
          },
          "metadata": {},
          "execution_count": 32
        }
      ]
    },
    {
      "cell_type": "code",
      "source": [
        "data['SIRS_Score'].value_counts().plot.bar()"
      ],
      "metadata": {
        "colab": {
          "base_uri": "https://localhost:8080/",
          "height": 280
        },
        "id": "ePur0ugkUlL0",
        "outputId": "37fadb98-cd16-44c0-8bc1-2e30c881b47a"
      },
      "execution_count": null,
      "outputs": [
        {
          "output_type": "execute_result",
          "data": {
            "text/plain": [
              "<matplotlib.axes._subplots.AxesSubplot at 0x7fb4d63f96d0>"
            ]
          },
          "metadata": {},
          "execution_count": 33
        },
        {
          "output_type": "display_data",
          "data": {
            "text/plain": [
              "<Figure size 432x288 with 1 Axes>"
            ],
            "image/png": "[encoded data removed]"
          },
          "metadata": {
            "needs_background": "light"
          }
        }
      ]
    },
    {
      "cell_type": "markdown",
      "source": [
        "**Analisis y exploracion de los datos obtenidos**\n",
        "\n",
        "\n"
      ],
      "metadata": {
        "id": "s-o45zl0UqXO"
      }
    },
    {
      "cell_type": "markdown",
      "source": [
        "**Grafico de barras**"
      ],
      "metadata": {
        "id": "jRELsH6aE3Wx"
      }
    },
    {
      "cell_type": "code",
      "source": [
        "data.SepsisLabel.value_counts().plot.bar(title=\"Sepsis Count\", xlabel='Sepsis Lebel', ylabel='Count')"
      ],
      "metadata": {
        "colab": {
          "base_uri": "https://localhost:8080/",
          "height": 309
        },
        "id": "od5XzzJNUx5D",
        "outputId": "413a04f6-4041-4881-fc37-7b4438133e31"
      },
      "execution_count": null,
      "outputs": [
        {
          "output_type": "execute_result",
          "data": {
            "text/plain": [
              "<matplotlib.axes._subplots.AxesSubplot at 0x7fb4d7076490>"
            ]
          },
          "metadata": {},
          "execution_count": 59
        },
        {
          "output_type": "display_data",
          "data": {
            "text/plain": [
              "<Figure size 432x288 with 1 Axes>"
            ],
            "image/png": "[encoded data removed]"
          },
          "metadata": {
            "needs_background": "light"
          }
        }
      ]
    },
    {
      "cell_type": "code",
      "source": [
        "have_disease = data.loc[data['SepsisLabel']==1, 'Gender'].value_counts().plot.bar(alpha=0.4) \n",
        "no_disease = data.loc[data['SepsisLabel']==0, 'Gender'].value_counts().plot.bar(alpha=0.4) \n"
      ],
      "metadata": {
        "colab": {
          "base_uri": "https://localhost:8080/",
          "height": 262
        },
        "id": "jZG1bekO41mF",
        "outputId": "e6dddcbe-944d-46d4-b12d-6f2f853bda8b"
      },
      "execution_count": null,
      "outputs": [
        {
          "output_type": "display_data",
          "data": {
            "text/plain": [
              "<Figure size 432x288 with 1 Axes>"
            ],
            "image/png": "[encoded data removed]"
          },
          "metadata": {
            "needs_background": "light"
          }
        }
      ]
    },
    {
      "cell_type": "markdown",
      "source": [
        "**Histograma**"
      ],
      "metadata": {
        "id": "vZoTxG8xFHSx"
      }
    },
    {
      "cell_type": "code",
      "source": [
        "sns.histplot(data=CS_data, x=\"Lactato\",hue=\"SepsisLabel\", kde=True,bins=20)"
      ],
      "metadata": {
        "colab": {
          "base_uri": "https://localhost:8080/",
          "height": 296
        },
        "id": "xZhrpc_yEbB7",
        "outputId": "df6461fe-41fd-4824-d7bf-de49abf30f6d"
      },
      "execution_count": null,
      "outputs": [
        {
          "output_type": "execute_result",
          "data": {
            "text/plain": [
              "<matplotlib.axes._subplots.AxesSubplot at 0x7fb4d6c2b950>"
            ]
          },
          "metadata": {},
          "execution_count": 63
        },
        {
          "output_type": "display_data",
          "data": {
            "text/plain": [
              "<Figure size 432x288 with 1 Axes>"
            ],
            "image/png": "[encoded data removed]"
          },
          "metadata": {
            "needs_background": "light"
          }
        }
      ]
    },
    {
      "cell_type": "code",
      "source": [
        "sns.histplot(data=CS_data, x=\"BaseExcess\",hue=\"SepsisLabel\", kde=True,bins=20)"
      ],
      "metadata": {
        "colab": {
          "base_uri": "https://localhost:8080/",
          "height": 296
        },
        "id": "Z_7XJhQQF1SY",
        "outputId": "50710930-6510-46c3-f373-939f9e86e13f"
      },
      "execution_count": null,
      "outputs": [
        {
          "output_type": "execute_result",
          "data": {
            "text/plain": [
              "<matplotlib.axes._subplots.AxesSubplot at 0x7fb4d6a8db10>"
            ]
          },
          "metadata": {},
          "execution_count": 64
        },
        {
          "output_type": "display_data",
          "data": {
            "text/plain": [
              "<Figure size 432x288 with 1 Axes>"
            ],
            "image/png": "[encoded data removed]"
          },
          "metadata": {
            "needs_background": "light"
          }
        }
      ]
    },
    {
      "cell_type": "code",
      "source": [
        "sns.histplot(data=CS_data, x=\"Alkalinephos\",hue=\"SepsisLabel\", kde=True,bins=20)"
      ],
      "metadata": {
        "colab": {
          "base_uri": "https://localhost:8080/",
          "height": 296
        },
        "id": "ElKN8ijaF7Kz",
        "outputId": "2c21adab-3cd7-42dd-ee24-beb1135accee"
      },
      "execution_count": null,
      "outputs": [
        {
          "output_type": "execute_result",
          "data": {
            "text/plain": [
              "<matplotlib.axes._subplots.AxesSubplot at 0x7fb4d6905a90>"
            ]
          },
          "metadata": {},
          "execution_count": 65
        },
        {
          "output_type": "display_data",
          "data": {
            "text/plain": [
              "<Figure size 432x288 with 1 Axes>"
            ],
            "image/png": "[encoded data removed]"
          },
          "metadata": {
            "needs_background": "light"
          }
        }
      ]
    },
    {
      "cell_type": "markdown",
      "source": [
        "**Diagrama de caja**"
      ],
      "metadata": {
        "id": "WScOxav8GGwt"
      }
    },
    {
      "cell_type": "code",
      "source": [
        "data[['Alkalinephos','BaseExcess','Lactate']].plot(kind='box')"
      ],
      "metadata": {
        "colab": {
          "base_uri": "https://localhost:8080/",
          "height": 340
        },
        "id": "yS6b1u6JGJiO",
        "outputId": "3e5de7af-0250-4d34-c634-1ebf1bd3fe92"
      },
      "execution_count": null,
      "outputs": [
        {
          "output_type": "stream",
          "name": "stderr",
          "text": [
            "/usr/local/lib/python3.7/dist-packages/matplotlib/cbook/__init__.py:1376: VisibleDeprecationWarning: Creating an ndarray from ragged nested sequences (which is a list-or-tuple of lists-or-tuples-or ndarrays with different lengths or shapes) is deprecated. If you meant to do this, you must specify 'dtype=object' when creating the ndarray.\n",
            "  X = np.atleast_1d(X.T if isinstance(X, np.ndarray) else np.asarray(X))\n"
          ]
        },
        {
          "output_type": "execute_result",
          "data": {
            "text/plain": [
              "<matplotlib.axes._subplots.AxesSubplot at 0x7fb4d89a3510>"
            ]
          },
          "metadata": {},
          "execution_count": 66
        },
        {
          "output_type": "display_data",
          "data": {
            "text/plain": [
              "<Figure size 432x288 with 1 Axes>"
            ],
            "image/png": "[encoded data removed]"
          },
          "metadata": {
            "needs_background": "light"
          }
        }
      ]
    },
    {
      "cell_type": "markdown",
      "source": [
        "**Correlación**"
      ],
      "metadata": {
        "id": "bBqeBt80GZb6"
      }
    },
    {
      "cell_type": "code",
      "source": [
        "corr_matrix = data[['Alkalinephos','BaseExcess','Lactate']].corr()\n",
        "fig, ax = plt.subplots(figsize=(10, 10))\n",
        "ax = sns.heatmap(corr_matrix,\n",
        "                 annot=True,\n",
        "                 linewidths=0.5,\n",
        "                 fmt=\".10f\",\n",
        "                 cmap=\"YlGnBu\");\n",
        "bottom, top = ax.get_ylim()\n",
        "ax.set_ylim(bottom + 0.5, top - 0.5)"
      ],
      "metadata": {
        "colab": {
          "base_uri": "https://localhost:8080/",
          "height": 612
        },
        "id": "wm3xGrJVGdsQ",
        "outputId": "14005dcb-ea13-4724-b808-b32aa27db773"
      },
      "execution_count": null,
      "outputs": [
        {
          "output_type": "execute_result",
          "data": {
            "text/plain": [
              "(3.5, -0.5)"
            ]
          },
          "metadata": {},
          "execution_count": 67
        },
        {
          "output_type": "display_data",
          "data": {
            "text/plain": [
              "<Figure size 720x720 with 2 Axes>"
            ],
            "image/png": "[encoded data removed]"
          },
          "metadata": {
            "needs_background": "light"
          }
        }
      ]
    },
    {
      "cell_type": "code",
      "source": [
        "data1=data.loc[:, ['BaseExcess', 'Lactate','Alkalinephos','SepsisLabel']]"
      ],
      "metadata": {
        "id": "MfHtgCLgGzXm"
      },
      "execution_count": null,
      "outputs": []
    },
    {
      "cell_type": "code",
      "source": [
        "data1.drop('SepsisLabel', axis=1).corrwith(data1.SepsisLabel).plot.barh(\n",
        "    title=\"Correlation between Sepsis and Numeric Features\", \n",
        "    ylabel='Correlation', xlabel='Numerical Features',\n",
        ")"
      ],
      "metadata": {
        "colab": {
          "base_uri": "https://localhost:8080/",
          "height": 298
        },
        "id": "OlNMFSJTHcU-",
        "outputId": "33f56117-ae9f-4d89-827b-f5ce4bee9872"
      },
      "execution_count": null,
      "outputs": [
        {
          "output_type": "execute_result",
          "data": {
            "text/plain": [
              "<matplotlib.axes._subplots.AxesSubplot at 0x7fb4d3a4fc10>"
            ]
          },
          "metadata": {},
          "execution_count": 80
        },
        {
          "output_type": "display_data",
          "data": {
            "text/plain": [
              "<Figure size 432x288 with 1 Axes>"
            ],
            "image/png": "[encoded data removed]"
          },
          "metadata": {
            "needs_background": "light"
          }
        }
      ]
    },
    {
      "cell_type": "code",
      "source": [
        "sns_plot=sns.pairplot(data,vars=['Lactate','Alkalinephos','BaseExcess'])"
      ],
      "metadata": {
        "colab": {
          "base_uri": "https://localhost:8080/",
          "height": 550
        },
        "id": "-n0zozgVHllK",
        "outputId": "6552f5b1-f1f3-4e16-8532-79b07204ce5a"
      },
      "execution_count": null,
      "outputs": [
        {
          "output_type": "display_data",
          "data": {
            "text/plain": [
              "<Figure size 540x540 with 12 Axes>"
            ],
            "image/png": "[encoded data removed]"
          },
          "metadata": {
            "needs_background": "light"
          }
        }
      ]
    }
  ]
}